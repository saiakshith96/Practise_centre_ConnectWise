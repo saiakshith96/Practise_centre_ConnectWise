{
 "cells": [
  {
   "cell_type": "markdown",
   "metadata": {},
   "source": [
    "# Question 1"
   ]
  },
  {
   "cell_type": "code",
   "execution_count": null,
   "metadata": {},
   "outputs": [],
   "source": [
    "import pandas as pd\n",
    "\n",
    "connect_wise=pd.read_csv('https://s3.amazonaws.com/cc-analytics-datasets/Building_Permits.csv')"
   ]
  },
  {
   "cell_type": "markdown",
   "metadata": {},
   "source": [
    "### To display top 5 "
   ]
  },
  {
   "cell_type": "code",
   "execution_count": 297,
   "metadata": {},
   "outputs": [
    {
     "data": {
      "text/html": [
       "<div>\n",
       "<style scoped>\n",
       "    .dataframe tbody tr th:only-of-type {\n",
       "        vertical-align: middle;\n",
       "    }\n",
       "\n",
       "    .dataframe tbody tr th {\n",
       "        vertical-align: top;\n",
       "    }\n",
       "\n",
       "    .dataframe thead th {\n",
       "        text-align: right;\n",
       "    }\n",
       "</style>\n",
       "<table border=\"1\" class=\"dataframe\">\n",
       "  <thead>\n",
       "    <tr style=\"text-align: right;\">\n",
       "      <th></th>\n",
       "      <th>X</th>\n",
       "      <th>Y</th>\n",
       "      <th>OBJECTID</th>\n",
       "      <th>permittypemapped</th>\n",
       "      <th>permitnum</th>\n",
       "      <th>workclass</th>\n",
       "      <th>permitclass</th>\n",
       "      <th>proposedworkdescription</th>\n",
       "      <th>permitclassmapped</th>\n",
       "      <th>applieddate</th>\n",
       "      <th>...</th>\n",
       "      <th>totalsqft</th>\n",
       "      <th>voiddate</th>\n",
       "      <th>workclassmapped</th>\n",
       "      <th>GlobalID</th>\n",
       "      <th>CreationDate</th>\n",
       "      <th>Creator</th>\n",
       "      <th>EditDate</th>\n",
       "      <th>Editor</th>\n",
       "      <th>const_type</th>\n",
       "      <th>occupancyclass</th>\n",
       "    </tr>\n",
       "  </thead>\n",
       "  <tbody>\n",
       "    <tr>\n",
       "      <th>0</th>\n",
       "      <td>-78.734835</td>\n",
       "      <td>35.903045</td>\n",
       "      <td>48520</td>\n",
       "      <td>Building</td>\n",
       "      <td>147303</td>\n",
       "      <td>Alterations/repairs</td>\n",
       "      <td>434.0</td>\n",
       "      <td>REPAIR FIRE DAMAGE</td>\n",
       "      <td>Residential</td>\n",
       "      <td>2018-03-02T18:12:31.000Z</td>\n",
       "      <td>...</td>\n",
       "      <td>2064.0</td>\n",
       "      <td>NaN</td>\n",
       "      <td>Existing</td>\n",
       "      <td>e94cf493-fe7f-49d6-927f-b6127a3435b6</td>\n",
       "      <td>2018-03-16T01:55:55.663Z</td>\n",
       "      <td>justin.greco@raleighnc.gov_ral</td>\n",
       "      <td>2018-06-15T22:03:10.675Z</td>\n",
       "      <td>OpenData_ral</td>\n",
       "      <td>V  B</td>\n",
       "      <td>RESIDENT 3  SFD/DUP</td>\n",
       "    </tr>\n",
       "    <tr>\n",
       "      <th>1</th>\n",
       "      <td>-78.534184</td>\n",
       "      <td>35.729309</td>\n",
       "      <td>48521</td>\n",
       "      <td>Building</td>\n",
       "      <td>147288</td>\n",
       "      <td>New Building</td>\n",
       "      <td>101.0</td>\n",
       "      <td>SFD</td>\n",
       "      <td>Residential</td>\n",
       "      <td>2018-03-02T15:16:37.000Z</td>\n",
       "      <td>...</td>\n",
       "      <td>1684.0</td>\n",
       "      <td>NaN</td>\n",
       "      <td>New</td>\n",
       "      <td>f114dc19-3b62-459b-bd6c-9084162403c8</td>\n",
       "      <td>2018-03-16T01:55:55.663Z</td>\n",
       "      <td>justin.greco@raleighnc.gov_ral</td>\n",
       "      <td>2018-06-12T22:02:31.949Z</td>\n",
       "      <td>OpenData_ral</td>\n",
       "      <td>V  B</td>\n",
       "      <td>RESIDENT 3  SFD/DUP</td>\n",
       "    </tr>\n",
       "    <tr>\n",
       "      <th>2</th>\n",
       "      <td>-78.534323</td>\n",
       "      <td>35.728595</td>\n",
       "      <td>48522</td>\n",
       "      <td>Building</td>\n",
       "      <td>147287</td>\n",
       "      <td>New Building</td>\n",
       "      <td>101.0</td>\n",
       "      <td>SFD</td>\n",
       "      <td>Residential</td>\n",
       "      <td>2018-03-02T15:08:25.000Z</td>\n",
       "      <td>...</td>\n",
       "      <td>2378.0</td>\n",
       "      <td>NaN</td>\n",
       "      <td>New</td>\n",
       "      <td>d4b182cb-af25-4c3f-92a9-a59d4b82ada3</td>\n",
       "      <td>2018-03-16T01:55:55.663Z</td>\n",
       "      <td>justin.greco@raleighnc.gov_ral</td>\n",
       "      <td>2018-06-13T22:02:40.102Z</td>\n",
       "      <td>OpenData_ral</td>\n",
       "      <td>V  B</td>\n",
       "      <td>RESIDENT 3  SFD/DUP</td>\n",
       "    </tr>\n",
       "    <tr>\n",
       "      <th>3</th>\n",
       "      <td>-78.531789</td>\n",
       "      <td>35.729794</td>\n",
       "      <td>48523</td>\n",
       "      <td>Building</td>\n",
       "      <td>147286</td>\n",
       "      <td>New Building</td>\n",
       "      <td>101.0</td>\n",
       "      <td>NEW SFD</td>\n",
       "      <td>Residential</td>\n",
       "      <td>2018-03-02T15:00:47.000Z</td>\n",
       "      <td>...</td>\n",
       "      <td>1392.0</td>\n",
       "      <td>NaN</td>\n",
       "      <td>New</td>\n",
       "      <td>ecc76e8c-48d3-4529-a7ae-f1d616592c08</td>\n",
       "      <td>2018-03-16T01:55:55.663Z</td>\n",
       "      <td>justin.greco@raleighnc.gov_ral</td>\n",
       "      <td>2018-06-27T22:02:34.320Z</td>\n",
       "      <td>OpenData_ral</td>\n",
       "      <td>V  B</td>\n",
       "      <td>RESIDENT 3  SFD/DUP</td>\n",
       "    </tr>\n",
       "    <tr>\n",
       "      <th>4</th>\n",
       "      <td>-78.533914</td>\n",
       "      <td>35.729473</td>\n",
       "      <td>48524</td>\n",
       "      <td>Building</td>\n",
       "      <td>147284</td>\n",
       "      <td>New Building</td>\n",
       "      <td>101.0</td>\n",
       "      <td>NEW SFD</td>\n",
       "      <td>Residential</td>\n",
       "      <td>2018-03-02T14:32:33.000Z</td>\n",
       "      <td>...</td>\n",
       "      <td>1392.0</td>\n",
       "      <td>NaN</td>\n",
       "      <td>New</td>\n",
       "      <td>a1074b43-bc40-4efa-bc7f-a167c351c327</td>\n",
       "      <td>2018-03-16T01:55:55.663Z</td>\n",
       "      <td>justin.greco@raleighnc.gov_ral</td>\n",
       "      <td>2018-06-12T22:02:31.949Z</td>\n",
       "      <td>OpenData_ral</td>\n",
       "      <td>V  B</td>\n",
       "      <td>RESIDENT 3  SFD/DUP</td>\n",
       "    </tr>\n",
       "  </tbody>\n",
       "</table>\n",
       "<p>5 rows × 87 columns</p>\n",
       "</div>"
      ],
      "text/plain": [
       "           X          Y  OBJECTID permittypemapped  permitnum  \\\n",
       "0 -78.734835  35.903045     48520         Building     147303   \n",
       "1 -78.534184  35.729309     48521         Building     147288   \n",
       "2 -78.534323  35.728595     48522         Building     147287   \n",
       "3 -78.531789  35.729794     48523         Building     147286   \n",
       "4 -78.533914  35.729473     48524         Building     147284   \n",
       "\n",
       "             workclass  permitclass proposedworkdescription permitclassmapped  \\\n",
       "0  Alterations/repairs        434.0      REPAIR FIRE DAMAGE       Residential   \n",
       "1         New Building        101.0                     SFD       Residential   \n",
       "2         New Building        101.0                     SFD       Residential   \n",
       "3         New Building        101.0                 NEW SFD       Residential   \n",
       "4         New Building        101.0                 NEW SFD       Residential   \n",
       "\n",
       "                applieddate  ... totalsqft  voiddate workclassmapped  \\\n",
       "0  2018-03-02T18:12:31.000Z  ...    2064.0       NaN        Existing   \n",
       "1  2018-03-02T15:16:37.000Z  ...    1684.0       NaN             New   \n",
       "2  2018-03-02T15:08:25.000Z  ...    2378.0       NaN             New   \n",
       "3  2018-03-02T15:00:47.000Z  ...    1392.0       NaN             New   \n",
       "4  2018-03-02T14:32:33.000Z  ...    1392.0       NaN             New   \n",
       "\n",
       "                               GlobalID              CreationDate  \\\n",
       "0  e94cf493-fe7f-49d6-927f-b6127a3435b6  2018-03-16T01:55:55.663Z   \n",
       "1  f114dc19-3b62-459b-bd6c-9084162403c8  2018-03-16T01:55:55.663Z   \n",
       "2  d4b182cb-af25-4c3f-92a9-a59d4b82ada3  2018-03-16T01:55:55.663Z   \n",
       "3  ecc76e8c-48d3-4529-a7ae-f1d616592c08  2018-03-16T01:55:55.663Z   \n",
       "4  a1074b43-bc40-4efa-bc7f-a167c351c327  2018-03-16T01:55:55.663Z   \n",
       "\n",
       "                          Creator                  EditDate        Editor  \\\n",
       "0  justin.greco@raleighnc.gov_ral  2018-06-15T22:03:10.675Z  OpenData_ral   \n",
       "1  justin.greco@raleighnc.gov_ral  2018-06-12T22:02:31.949Z  OpenData_ral   \n",
       "2  justin.greco@raleighnc.gov_ral  2018-06-13T22:02:40.102Z  OpenData_ral   \n",
       "3  justin.greco@raleighnc.gov_ral  2018-06-27T22:02:34.320Z  OpenData_ral   \n",
       "4  justin.greco@raleighnc.gov_ral  2018-06-12T22:02:31.949Z  OpenData_ral   \n",
       "\n",
       "  const_type       occupancyclass  \n",
       "0       V  B  RESIDENT 3  SFD/DUP  \n",
       "1       V  B  RESIDENT 3  SFD/DUP  \n",
       "2       V  B  RESIDENT 3  SFD/DUP  \n",
       "3       V  B  RESIDENT 3  SFD/DUP  \n",
       "4       V  B  RESIDENT 3  SFD/DUP  \n",
       "\n",
       "[5 rows x 87 columns]"
      ]
     },
     "execution_count": 297,
     "metadata": {},
     "output_type": "execute_result"
    }
   ],
   "source": [
    "connect_wise.head(5)"
   ]
  },
  {
   "cell_type": "markdown",
   "metadata": {},
   "source": [
    "# Question 2"
   ]
  },
  {
   "cell_type": "markdown",
   "metadata": {},
   "source": [
    "### info() gives us the details of data frame"
   ]
  },
  {
   "cell_type": "code",
   "execution_count": 17,
   "metadata": {
    "scrolled": true
   },
   "outputs": [
    {
     "name": "stdout",
     "output_type": "stream",
     "text": [
      "<class 'pandas.core.frame.DataFrame'>\n",
      "RangeIndex: 141953 entries, 0 to 141952\n",
      "Data columns (total 87 columns):\n",
      "X                           141830 non-null float64\n",
      "Y                           141830 non-null float64\n",
      "OBJECTID                    141953 non-null int64\n",
      "permittypemapped            141953 non-null object\n",
      "permitnum                   141953 non-null int64\n",
      "workclass                   141593 non-null object\n",
      "permitclass                 135408 non-null float64\n",
      "proposedworkdescription     140444 non-null object\n",
      "permitclassmapped           141953 non-null object\n",
      "applieddate                 141953 non-null object\n",
      "issueddate                  138519 non-null object\n",
      "estprojectcost              141953 non-null float64\n",
      "constcompletedofficial      141953 non-null object\n",
      "censuslanduse               135408 non-null object\n",
      "censuslandusecode           135408 non-null float64\n",
      "devplanid                   127287 non-null float64\n",
      "corlotid                    141953 non-null object\n",
      "cntyacctnum                 140416 non-null object\n",
      "coissueddate                90604 non-null object\n",
      "cocissueddate               2648 non-null object\n",
      "cocnbr                      2648 non-null float64\n",
      "contractorcompanyname       135603 non-null object\n",
      "contractordba               11897 non-null object\n",
      "contractoraddress1          122140 non-null object\n",
      "contractoraddress2          40254 non-null object\n",
      "contractorcity              122764 non-null object\n",
      "contractorstate             122764 non-null object\n",
      "contractoremail             97945 non-null object\n",
      "contractorlicnum            122764 non-null float64\n",
      "contractorphone             122756 non-null float64\n",
      "contractorzip               122759 non-null object\n",
      "countylocation              141924 non-null object\n",
      "description                 140638 non-null object\n",
      "expirednewpermnum           0 non-null float64\n",
      "expiresdate                 37821 non-null object\n",
      "fee                         141953 non-null int64\n",
      "fiscalyear                  141058 non-null object\n",
      "govtownedprop               141949 non-null float64\n",
      "grouptenantname             33897 non-null object\n",
      "housingunitstotal           118563 non-null float64\n",
      "housingunitsexist           77393 non-null float64\n",
      "issueddate_mth              138519 non-null float64\n",
      "issueddate_yr               138519 non-null float64\n",
      "jurisdiction                141953 non-null object\n",
      "jurisdiction_atissue        42 non-null object\n",
      "jurisdiction_inout_ral      141952 non-null object\n",
      "landusedescription          141947 non-null object\n",
      "landusenewuse               135722 non-null float64\n",
      "latitude_perm               141830 non-null float64\n",
      "longitude_perm              141830 non-null float64\n",
      "mapsheet                    139939 non-null object\n",
      "numberstories               122442 non-null float64\n",
      "originaladdress1            141953 non-null object\n",
      "originaladdress2            24612 non-null object\n",
      "originalcity                141953 non-null object\n",
      "originalstate               11467 non-null object\n",
      "originalzip                 118661 non-null object\n",
      "parc_open_space_zone_fee    141949 non-null float64\n",
      "parcelownername             137779 non-null object\n",
      "parcelowneraddress1         132539 non-null object\n",
      "parcelowneraddress2         132863 non-null object\n",
      "perm_comments               90863 non-null object\n",
      "permittype                  141953 non-null object\n",
      "pin                         126981 non-null object\n",
      "projectname                 124384 non-null object\n",
      "proposeduse                 135408 non-null object\n",
      "publisher                   141953 non-null object\n",
      "recordupdatedate            141923 non-null object\n",
      "reviewercomments            8252 non-null object\n",
      "statelicnum                 110909 non-null object\n",
      "statuscurrent               141953 non-null object\n",
      "statuscurrentmapped         141952 non-null object\n",
      "streetnum                   141953 non-null object\n",
      "streetdirectionprefix       135483 non-null object\n",
      "streetname                  141953 non-null object\n",
      "streetdirectionsuffix       135388 non-null object\n",
      "streettype                  141942 non-null object\n",
      "totalsqft                   136701 non-null float64\n",
      "voiddate                    6097 non-null object\n",
      "workclassmapped             141953 non-null object\n",
      "GlobalID                    141953 non-null object\n",
      "CreationDate                141953 non-null object\n",
      "Creator                     141953 non-null object\n",
      "EditDate                    141953 non-null object\n",
      "Editor                      141953 non-null object\n",
      "const_type                  134091 non-null object\n",
      "occupancyclass              135364 non-null object\n",
      "dtypes: float64(21), int64(3), object(63)\n",
      "memory usage: 94.2+ MB\n"
     ]
    }
   ],
   "source": [
    "connect_wise.info()"
   ]
  },
  {
   "cell_type": "markdown",
   "metadata": {},
   "source": [
    "---"
   ]
  },
  {
   "cell_type": "markdown",
   "metadata": {},
   "source": [
    "\n",
    "### columns() gives us the names of all columns of out dataframe in form of a list"
   ]
  },
  {
   "cell_type": "code",
   "execution_count": 18,
   "metadata": {},
   "outputs": [
    {
     "data": {
      "text/plain": [
       "Index(['X', 'Y', 'OBJECTID', 'permittypemapped', 'permitnum', 'workclass',\n",
       "       'permitclass', 'proposedworkdescription', 'permitclassmapped',\n",
       "       'applieddate', 'issueddate', 'estprojectcost', 'constcompletedofficial',\n",
       "       'censuslanduse', 'censuslandusecode', 'devplanid', 'corlotid',\n",
       "       'cntyacctnum', 'coissueddate', 'cocissueddate', 'cocnbr',\n",
       "       'contractorcompanyname', 'contractordba', 'contractoraddress1',\n",
       "       'contractoraddress2', 'contractorcity', 'contractorstate',\n",
       "       'contractoremail', 'contractorlicnum', 'contractorphone',\n",
       "       'contractorzip', 'countylocation', 'description', 'expirednewpermnum',\n",
       "       'expiresdate', 'fee', 'fiscalyear', 'govtownedprop', 'grouptenantname',\n",
       "       'housingunitstotal', 'housingunitsexist', 'issueddate_mth',\n",
       "       'issueddate_yr', 'jurisdiction', 'jurisdiction_atissue',\n",
       "       'jurisdiction_inout_ral', 'landusedescription', 'landusenewuse',\n",
       "       'latitude_perm', 'longitude_perm', 'mapsheet', 'numberstories',\n",
       "       'originaladdress1', 'originaladdress2', 'originalcity', 'originalstate',\n",
       "       'originalzip', 'parc_open_space_zone_fee', 'parcelownername',\n",
       "       'parcelowneraddress1', 'parcelowneraddress2', 'perm_comments',\n",
       "       'permittype', 'pin', 'projectname', 'proposeduse', 'publisher',\n",
       "       'recordupdatedate', 'reviewercomments', 'statelicnum', 'statuscurrent',\n",
       "       'statuscurrentmapped', 'streetnum', 'streetdirectionprefix',\n",
       "       'streetname', 'streetdirectionsuffix', 'streettype', 'totalsqft',\n",
       "       'voiddate', 'workclassmapped', 'GlobalID', 'CreationDate', 'Creator',\n",
       "       'EditDate', 'Editor', 'const_type', 'occupancyclass'],\n",
       "      dtype='object')"
      ]
     },
     "execution_count": 18,
     "metadata": {},
     "output_type": "execute_result"
    }
   ],
   "source": [
    "connect_wise.columns"
   ]
  },
  {
   "cell_type": "markdown",
   "metadata": {},
   "source": [
    "### Total different types of construction"
   ]
  },
  {
   "cell_type": "code",
   "execution_count": 303,
   "metadata": {},
   "outputs": [
    {
     "data": {
      "text/plain": [
       "18"
      ]
     },
     "execution_count": 303,
     "metadata": {},
     "output_type": "execute_result"
    }
   ],
   "source": [
    "connect_wise['const_type'].nunique()"
   ]
  },
  {
   "cell_type": "markdown",
   "metadata": {},
   "source": [
    "### Mean and median number of stories"
   ]
  },
  {
   "cell_type": "code",
   "execution_count": 305,
   "metadata": {},
   "outputs": [
    {
     "data": {
      "text/plain": [
       "9.707420656310743"
      ]
     },
     "execution_count": 305,
     "metadata": {},
     "output_type": "execute_result"
    }
   ],
   "source": [
    "connect_wise['numberstories'].mean()"
   ]
  },
  {
   "cell_type": "code",
   "execution_count": 304,
   "metadata": {},
   "outputs": [
    {
     "data": {
      "text/plain": [
       "2.0"
      ]
     },
     "execution_count": 304,
     "metadata": {},
     "output_type": "execute_result"
    }
   ],
   "source": [
    "connect_wise['numberstories'].median()"
   ]
  },
  {
   "cell_type": "markdown",
   "metadata": {},
   "source": [
    "### Standard deviation for the X and Y coordinates of the permits"
   ]
  },
  {
   "cell_type": "code",
   "execution_count": null,
   "metadata": {},
   "outputs": [],
   "source": []
  },
  {
   "cell_type": "code",
   "execution_count": 307,
   "metadata": {},
   "outputs": [
    {
     "data": {
      "text/plain": [
       "0.06880533619261185"
      ]
     },
     "execution_count": 307,
     "metadata": {},
     "output_type": "execute_result"
    }
   ],
   "source": [
    "connect_wise['X'].std()"
   ]
  },
  {
   "cell_type": "code",
   "execution_count": 308,
   "metadata": {},
   "outputs": [
    {
     "data": {
      "text/plain": [
       "0.05839207500294413"
      ]
     },
     "execution_count": 308,
     "metadata": {},
     "output_type": "execute_result"
    }
   ],
   "source": [
    "connect_wise['Y'].std()"
   ]
  },
  {
   "cell_type": "markdown",
   "metadata": {},
   "source": [
    "### desbribe() displays details of statistics of columns and the above results can be cross checked by the values obtained here."
   ]
  },
  {
   "cell_type": "code",
   "execution_count": 22,
   "metadata": {},
   "outputs": [
    {
     "data": {
      "text/html": [
       "<div>\n",
       "<style scoped>\n",
       "    .dataframe tbody tr th:only-of-type {\n",
       "        vertical-align: middle;\n",
       "    }\n",
       "\n",
       "    .dataframe tbody tr th {\n",
       "        vertical-align: top;\n",
       "    }\n",
       "\n",
       "    .dataframe thead th {\n",
       "        text-align: right;\n",
       "    }\n",
       "</style>\n",
       "<table border=\"1\" class=\"dataframe\">\n",
       "  <thead>\n",
       "    <tr style=\"text-align: right;\">\n",
       "      <th></th>\n",
       "      <th>X</th>\n",
       "      <th>Y</th>\n",
       "      <th>OBJECTID</th>\n",
       "      <th>permitnum</th>\n",
       "      <th>permitclass</th>\n",
       "      <th>estprojectcost</th>\n",
       "      <th>censuslandusecode</th>\n",
       "      <th>devplanid</th>\n",
       "      <th>cocnbr</th>\n",
       "      <th>contractorlicnum</th>\n",
       "      <th>...</th>\n",
       "      <th>housingunitstotal</th>\n",
       "      <th>housingunitsexist</th>\n",
       "      <th>issueddate_mth</th>\n",
       "      <th>issueddate_yr</th>\n",
       "      <th>landusenewuse</th>\n",
       "      <th>latitude_perm</th>\n",
       "      <th>longitude_perm</th>\n",
       "      <th>numberstories</th>\n",
       "      <th>parc_open_space_zone_fee</th>\n",
       "      <th>totalsqft</th>\n",
       "    </tr>\n",
       "  </thead>\n",
       "  <tbody>\n",
       "    <tr>\n",
       "      <th>count</th>\n",
       "      <td>141830.000000</td>\n",
       "      <td>141830.000000</td>\n",
       "      <td>141953.000000</td>\n",
       "      <td>141953.000000</td>\n",
       "      <td>135408.000000</td>\n",
       "      <td>1.419530e+05</td>\n",
       "      <td>135408.000000</td>\n",
       "      <td>127287.000000</td>\n",
       "      <td>2648.000000</td>\n",
       "      <td>122764.000000</td>\n",
       "      <td>...</td>\n",
       "      <td>118563.000000</td>\n",
       "      <td>77393.000000</td>\n",
       "      <td>138519.000000</td>\n",
       "      <td>138519.000000</td>\n",
       "      <td>135722.000000</td>\n",
       "      <td>141830.000000</td>\n",
       "      <td>141830.000000</td>\n",
       "      <td>122442.000000</td>\n",
       "      <td>141949.000000</td>\n",
       "      <td>1.367010e+05</td>\n",
       "    </tr>\n",
       "    <tr>\n",
       "      <th>mean</th>\n",
       "      <td>-78.635798</td>\n",
       "      <td>35.835300</td>\n",
       "      <td>118523.386424</td>\n",
       "      <td>76731.876318</td>\n",
       "      <td>322.068305</td>\n",
       "      <td>1.920127e+05</td>\n",
       "      <td>322.068305</td>\n",
       "      <td>4710.210846</td>\n",
       "      <td>4472.450906</td>\n",
       "      <td>5888.122658</td>\n",
       "      <td>...</td>\n",
       "      <td>2.590707</td>\n",
       "      <td>10.145892</td>\n",
       "      <td>6.407078</td>\n",
       "      <td>2008.795176</td>\n",
       "      <td>262.722875</td>\n",
       "      <td>35.835300</td>\n",
       "      <td>-78.635798</td>\n",
       "      <td>9.707421</td>\n",
       "      <td>2.458552</td>\n",
       "      <td>2.744957e+03</td>\n",
       "    </tr>\n",
       "    <tr>\n",
       "      <th>std</th>\n",
       "      <td>0.068805</td>\n",
       "      <td>0.058392</td>\n",
       "      <td>41024.499284</td>\n",
       "      <td>43864.317257</td>\n",
       "      <td>171.086230</td>\n",
       "      <td>1.493678e+06</td>\n",
       "      <td>171.086230</td>\n",
       "      <td>4467.329704</td>\n",
       "      <td>3646.687083</td>\n",
       "      <td>6006.855697</td>\n",
       "      <td>...</td>\n",
       "      <td>205.286034</td>\n",
       "      <td>46.431197</td>\n",
       "      <td>3.245976</td>\n",
       "      <td>5.486947</td>\n",
       "      <td>281.665535</td>\n",
       "      <td>0.058392</td>\n",
       "      <td>0.068805</td>\n",
       "      <td>1114.892012</td>\n",
       "      <td>1.182591</td>\n",
       "      <td>2.160001e+04</td>\n",
       "    </tr>\n",
       "    <tr>\n",
       "      <th>min</th>\n",
       "      <td>-78.816616</td>\n",
       "      <td>33.956035</td>\n",
       "      <td>47520.000000</td>\n",
       "      <td>5.000000</td>\n",
       "      <td>100.000000</td>\n",
       "      <td>0.000000e+00</td>\n",
       "      <td>100.000000</td>\n",
       "      <td>0.000000</td>\n",
       "      <td>0.000000</td>\n",
       "      <td>2.000000</td>\n",
       "      <td>...</td>\n",
       "      <td>0.000000</td>\n",
       "      <td>0.000000</td>\n",
       "      <td>1.000000</td>\n",
       "      <td>2000.000000</td>\n",
       "      <td>0.000000</td>\n",
       "      <td>33.956035</td>\n",
       "      <td>-78.816616</td>\n",
       "      <td>0.000000</td>\n",
       "      <td>0.000000</td>\n",
       "      <td>0.000000e+00</td>\n",
       "    </tr>\n",
       "    <tr>\n",
       "      <th>25%</th>\n",
       "      <td>-78.681172</td>\n",
       "      <td>35.788197</td>\n",
       "      <td>83008.000000</td>\n",
       "      <td>38924.000000</td>\n",
       "      <td>102.000000</td>\n",
       "      <td>1.000000e+04</td>\n",
       "      <td>102.000000</td>\n",
       "      <td>0.000000</td>\n",
       "      <td>1692.500000</td>\n",
       "      <td>907.000000</td>\n",
       "      <td>...</td>\n",
       "      <td>1.000000</td>\n",
       "      <td>0.000000</td>\n",
       "      <td>4.000000</td>\n",
       "      <td>2004.000000</td>\n",
       "      <td>110.000000</td>\n",
       "      <td>35.788197</td>\n",
       "      <td>-78.681172</td>\n",
       "      <td>1.000000</td>\n",
       "      <td>1.000000</td>\n",
       "      <td>1.400000e+02</td>\n",
       "    </tr>\n",
       "    <tr>\n",
       "      <th>50%</th>\n",
       "      <td>-78.637151</td>\n",
       "      <td>35.834122</td>\n",
       "      <td>118496.000000</td>\n",
       "      <td>76739.000000</td>\n",
       "      <td>434.000000</td>\n",
       "      <td>5.440400e+04</td>\n",
       "      <td>434.000000</td>\n",
       "      <td>5528.000000</td>\n",
       "      <td>3334.500000</td>\n",
       "      <td>3189.000000</td>\n",
       "      <td>...</td>\n",
       "      <td>1.000000</td>\n",
       "      <td>1.000000</td>\n",
       "      <td>6.000000</td>\n",
       "      <td>2008.000000</td>\n",
       "      <td>110.000000</td>\n",
       "      <td>35.834122</td>\n",
       "      <td>-78.637151</td>\n",
       "      <td>2.000000</td>\n",
       "      <td>2.000000</td>\n",
       "      <td>1.139000e+03</td>\n",
       "    </tr>\n",
       "    <tr>\n",
       "      <th>75%</th>\n",
       "      <td>-78.577937</td>\n",
       "      <td>35.885177</td>\n",
       "      <td>153984.000000</td>\n",
       "      <td>114674.000000</td>\n",
       "      <td>434.000000</td>\n",
       "      <td>1.350000e+05</td>\n",
       "      <td>434.000000</td>\n",
       "      <td>7581.000000</td>\n",
       "      <td>6917.500000</td>\n",
       "      <td>9869.000000</td>\n",
       "      <td>...</td>\n",
       "      <td>1.000000</td>\n",
       "      <td>1.000000</td>\n",
       "      <td>9.000000</td>\n",
       "      <td>2014.000000</td>\n",
       "      <td>153.000000</td>\n",
       "      <td>35.885177</td>\n",
       "      <td>-78.577937</td>\n",
       "      <td>2.000000</td>\n",
       "      <td>4.000000</td>\n",
       "      <td>2.433000e+03</td>\n",
       "    </tr>\n",
       "    <tr>\n",
       "      <th>max</th>\n",
       "      <td>-78.490945</td>\n",
       "      <td>35.970246</td>\n",
       "      <td>190277.000000</td>\n",
       "      <td>152586.000000</td>\n",
       "      <td>649.000000</td>\n",
       "      <td>1.700000e+08</td>\n",
       "      <td>649.000000</td>\n",
       "      <td>22611.000000</td>\n",
       "      <td>22034.000000</td>\n",
       "      <td>23356.000000</td>\n",
       "      <td>...</td>\n",
       "      <td>70000.000000</td>\n",
       "      <td>940.000000</td>\n",
       "      <td>12.000000</td>\n",
       "      <td>2018.000000</td>\n",
       "      <td>991.000000</td>\n",
       "      <td>35.970246</td>\n",
       "      <td>-78.490945</td>\n",
       "      <td>342365.000000</td>\n",
       "      <td>4.000000</td>\n",
       "      <td>6.627080e+06</td>\n",
       "    </tr>\n",
       "  </tbody>\n",
       "</table>\n",
       "<p>8 rows × 24 columns</p>\n",
       "</div>"
      ],
      "text/plain": [
       "                   X              Y       OBJECTID      permitnum  \\\n",
       "count  141830.000000  141830.000000  141953.000000  141953.000000   \n",
       "mean      -78.635798      35.835300  118523.386424   76731.876318   \n",
       "std         0.068805       0.058392   41024.499284   43864.317257   \n",
       "min       -78.816616      33.956035   47520.000000       5.000000   \n",
       "25%       -78.681172      35.788197   83008.000000   38924.000000   \n",
       "50%       -78.637151      35.834122  118496.000000   76739.000000   \n",
       "75%       -78.577937      35.885177  153984.000000  114674.000000   \n",
       "max       -78.490945      35.970246  190277.000000  152586.000000   \n",
       "\n",
       "         permitclass  estprojectcost  censuslandusecode      devplanid  \\\n",
       "count  135408.000000    1.419530e+05      135408.000000  127287.000000   \n",
       "mean      322.068305    1.920127e+05         322.068305    4710.210846   \n",
       "std       171.086230    1.493678e+06         171.086230    4467.329704   \n",
       "min       100.000000    0.000000e+00         100.000000       0.000000   \n",
       "25%       102.000000    1.000000e+04         102.000000       0.000000   \n",
       "50%       434.000000    5.440400e+04         434.000000    5528.000000   \n",
       "75%       434.000000    1.350000e+05         434.000000    7581.000000   \n",
       "max       649.000000    1.700000e+08         649.000000   22611.000000   \n",
       "\n",
       "             cocnbr  contractorlicnum  ...  housingunitstotal  \\\n",
       "count   2648.000000     122764.000000  ...      118563.000000   \n",
       "mean    4472.450906       5888.122658  ...           2.590707   \n",
       "std     3646.687083       6006.855697  ...         205.286034   \n",
       "min        0.000000          2.000000  ...           0.000000   \n",
       "25%     1692.500000        907.000000  ...           1.000000   \n",
       "50%     3334.500000       3189.000000  ...           1.000000   \n",
       "75%     6917.500000       9869.000000  ...           1.000000   \n",
       "max    22034.000000      23356.000000  ...       70000.000000   \n",
       "\n",
       "       housingunitsexist  issueddate_mth  issueddate_yr  landusenewuse  \\\n",
       "count       77393.000000   138519.000000  138519.000000  135722.000000   \n",
       "mean           10.145892        6.407078    2008.795176     262.722875   \n",
       "std            46.431197        3.245976       5.486947     281.665535   \n",
       "min             0.000000        1.000000    2000.000000       0.000000   \n",
       "25%             0.000000        4.000000    2004.000000     110.000000   \n",
       "50%             1.000000        6.000000    2008.000000     110.000000   \n",
       "75%             1.000000        9.000000    2014.000000     153.000000   \n",
       "max           940.000000       12.000000    2018.000000     991.000000   \n",
       "\n",
       "       latitude_perm  longitude_perm  numberstories  parc_open_space_zone_fee  \\\n",
       "count  141830.000000   141830.000000  122442.000000             141949.000000   \n",
       "mean       35.835300      -78.635798       9.707421                  2.458552   \n",
       "std         0.058392        0.068805    1114.892012                  1.182591   \n",
       "min        33.956035      -78.816616       0.000000                  0.000000   \n",
       "25%        35.788197      -78.681172       1.000000                  1.000000   \n",
       "50%        35.834122      -78.637151       2.000000                  2.000000   \n",
       "75%        35.885177      -78.577937       2.000000                  4.000000   \n",
       "max        35.970246      -78.490945  342365.000000                  4.000000   \n",
       "\n",
       "          totalsqft  \n",
       "count  1.367010e+05  \n",
       "mean   2.744957e+03  \n",
       "std    2.160001e+04  \n",
       "min    0.000000e+00  \n",
       "25%    1.400000e+02  \n",
       "50%    1.139000e+03  \n",
       "75%    2.433000e+03  \n",
       "max    6.627080e+06  \n",
       "\n",
       "[8 rows x 24 columns]"
      ]
     },
     "execution_count": 22,
     "metadata": {},
     "output_type": "execute_result"
    }
   ],
   "source": [
    "connect_wise.describe()"
   ]
  },
  {
   "cell_type": "markdown",
   "metadata": {},
   "source": [
    "---"
   ]
  },
  {
   "cell_type": "markdown",
   "metadata": {},
   "source": [
    "### Plot the distributions for each of the following features: Estimated Project Cost and Issue Date Month. "
   ]
  },
  {
   "cell_type": "code",
   "execution_count": 4,
   "metadata": {},
   "outputs": [],
   "source": [
    "import matplotlib.pyplot as plt\n",
    "\n",
    "import seaborn as sns\n",
    "from scipy import stats\n",
    "\n",
    "%matplotlib inline"
   ]
  },
  {
   "cell_type": "markdown",
   "metadata": {},
   "source": [
    "#### section 1:"
   ]
  },
  {
   "cell_type": "code",
   "execution_count": 309,
   "metadata": {
    "scrolled": true
   },
   "outputs": [
    {
     "data": {
      "image/png": "[encoded data removed]",
      "text/plain": [
       "<Figure size 432x288 with 1 Axes>"
      ]
     },
     "metadata": {
      "needs_background": "light"
     },
     "output_type": "display_data"
    }
   ],
   "source": [
    "ax=sns.distplot(yax['estprojectcost'],kde=True) "
   ]
  },
  {
   "cell_type": "code",
   "execution_count": 54,
   "metadata": {},
   "outputs": [
    {
     "data": {
      "text/plain": [
       "count    1.419530e+05\n",
       "mean     1.920127e+05\n",
       "std      1.493678e+06\n",
       "min      0.000000e+00\n",
       "25%      1.000000e+04\n",
       "50%      5.440400e+04\n",
       "75%      1.350000e+05\n",
       "max      1.700000e+08\n",
       "Name: estprojectcost, dtype: float64"
      ]
     },
     "execution_count": 54,
     "metadata": {},
     "output_type": "execute_result"
    }
   ],
   "source": [
    "connect_wise.estprojectcost.describe()"
   ]
  },
  {
   "cell_type": "code",
   "execution_count": 313,
   "metadata": {},
   "outputs": [
    {
     "data": {
      "text/plain": [
       "<matplotlib.axes._subplots.AxesSubplot at 0x13092fd6438>"
      ]
     },
     "execution_count": 313,
     "metadata": {},
     "output_type": "execute_result"
    },
    {
     "data": {
      "image/png": "[encoded data removed]",
      "text/plain": [
       "<Figure size 432x288 with 1 Axes>"
      ]
     },
     "metadata": {
      "needs_background": "light"
     },
     "output_type": "display_data"
    }
   ],
   "source": [
    "sns.kdeplot(connect_wise['estprojectcost'],shade=True)"
   ]
  },
  {
   "cell_type": "markdown",
   "metadata": {},
   "source": [
    "#### Section 2:"
   ]
  },
  {
   "cell_type": "code",
   "execution_count": 311,
   "metadata": {
    "scrolled": false
   },
   "outputs": [
    {
     "data": {
      "text/plain": [
       "count    106421.000000\n",
       "mean      39827.284815\n",
       "std       40279.060460\n",
       "min           0.000000\n",
       "25%        5400.000000\n",
       "50%       21000.000000\n",
       "75%       74000.000000\n",
       "max      134968.000000\n",
       "Name: estprojectcost, dtype: float64"
      ]
     },
     "execution_count": 311,
     "metadata": {},
     "output_type": "execute_result"
    }
   ],
   "source": [
    "yax=connect_wise[connect_wise.estprojectcost < connect_wise.estprojectcost.quantile(.75)]\n",
    "yax.estprojectcost.describe()"
   ]
  },
  {
   "cell_type": "code",
   "execution_count": 315,
   "metadata": {},
   "outputs": [
    {
     "data": {
      "text/plain": [
       "<matplotlib.axes._subplots.AxesSubplot at 0x1309304fc18>"
      ]
     },
     "execution_count": 315,
     "metadata": {},
     "output_type": "execute_result"
    },
    {
     "data": {
      "image/png": "[encoded data removed]",
      "text/plain": [
       "<Figure size 432x288 with 1 Axes>"
      ]
     },
     "metadata": {
      "needs_background": "light"
     },
     "output_type": "display_data"
    }
   ],
   "source": [
    "sns.distplot(yax['estprojectcost'],kde=True)"
   ]
  },
  {
   "cell_type": "code",
   "execution_count": 312,
   "metadata": {},
   "outputs": [
    {
     "data": {
      "text/plain": [
       "<matplotlib.axes._subplots.AxesSubplot at 0x13092f39588>"
      ]
     },
     "execution_count": 312,
     "metadata": {},
     "output_type": "execute_result"
    },
    {
     "data": {
      "image/png": "[encoded data removed]",
      "text/plain": [
       "<Figure size 432x288 with 1 Axes>"
      ]
     },
     "metadata": {
      "needs_background": "light"
     },
     "output_type": "display_data"
    }
   ],
   "source": [
    "sns.kdeplot(connect_wise['estprojectcost'],shade=True)"
   ]
  },
  {
   "cell_type": "markdown",
   "metadata": {},
   "source": [
    "#### From section 1 we can see plot has been plotted for 'estimatedcost' but we can see it has been skewed and from describe() method we can see 75 percentile is at 135000 so in section 2 for better plot we have removed points which are above that mark using filter in column and correspoding graphs are plotted.\n",
    "\n",
    "#### *We can say that distribution is not normal and highly left skewed.*"
   ]
  },
  {
   "cell_type": "markdown",
   "metadata": {},
   "source": [
    "---"
   ]
  },
  {
   "cell_type": "markdown",
   "metadata": {},
   "source": [
    "### Plot of 'issueddate_mth'"
   ]
  },
  {
   "cell_type": "code",
   "execution_count": 25,
   "metadata": {},
   "outputs": [
    {
     "name": "stdout",
     "output_type": "stream",
     "text": [
      "6.0     13897\n",
      "5.0     13498\n",
      "8.0     13285\n",
      "4.0     12508\n",
      "7.0     12239\n",
      "3.0     12189\n",
      "9.0     11648\n",
      "10.0    11486\n",
      "1.0      9915\n",
      "2.0      9646\n",
      "11.0     9317\n",
      "12.0     8891\n",
      "Name: issueddate_mth, dtype: int64\n"
     ]
    }
   ],
   "source": [
    "y_ax=connect_wise['issueddate_mth'].value_counts()\n",
    "print(y_ax)"
   ]
  },
  {
   "cell_type": "code",
   "execution_count": 33,
   "metadata": {
    "scrolled": true
   },
   "outputs": [
    {
     "data": {
      "text/plain": [
       "<matplotlib.axes._subplots.AxesSubplot at 0x130855ca2e8>"
      ]
     },
     "execution_count": 33,
     "metadata": {},
     "output_type": "execute_result"
    },
    {
     "data": {
      "image/png": "[encoded data removed]",
      "text/plain": [
       "<Figure size 432x288 with 1 Axes>"
      ]
     },
     "metadata": {
      "needs_background": "light"
     },
     "output_type": "display_data"
    }
   ],
   "source": [
    "connect_wise['issueddate_mth'].value_counts().plot(kind='bar')"
   ]
  },
  {
   "cell_type": "markdown",
   "metadata": {},
   "source": [
    "### Here we can see in the month of June we can see max number of issues."
   ]
  },
  {
   "cell_type": "markdown",
   "metadata": {},
   "source": [
    "---"
   ]
  },
  {
   "cell_type": "markdown",
   "metadata": {},
   "source": [
    "# simple regression analysis"
   ]
  },
  {
   "cell_type": "code",
   "execution_count": null,
   "metadata": {},
   "outputs": [],
   "source": [
    "lm_data=connect_wise[(connect_wise['workclass'].str.contains(\"ew\"))&(connect_wise['const_type']=='V  B')&(connect_wise['numberstories']<3)]"
   ]
  },
  {
   "cell_type": "code",
   "execution_count": 88,
   "metadata": {},
   "outputs": [
    {
     "name": "stdout",
     "output_type": "stream",
     "text": [
      "<class 'pandas.core.frame.DataFrame'>\n",
      "Int64Index: 31044 entries, 1 to 141952\n",
      "Data columns (total 87 columns):\n",
      "X                           31039 non-null float64\n",
      "Y                           31039 non-null float64\n",
      "OBJECTID                    31044 non-null int64\n",
      "permittypemapped            31044 non-null object\n",
      "permitnum                   31044 non-null int64\n",
      "workclass                   31044 non-null object\n",
      "permitclass                 31044 non-null float64\n",
      "proposedworkdescription     30976 non-null object\n",
      "permitclassmapped           31044 non-null object\n",
      "applieddate                 31044 non-null object\n",
      "issueddate                  30851 non-null object\n",
      "estprojectcost              31044 non-null float64\n",
      "constcompletedofficial      31044 non-null object\n",
      "censuslanduse               31044 non-null object\n",
      "censuslandusecode           31044 non-null float64\n",
      "devplanid                   29964 non-null float64\n",
      "corlotid                    31044 non-null object\n",
      "cntyacctnum                 30222 non-null object\n",
      "coissueddate                29069 non-null object\n",
      "cocissueddate               3 non-null object\n",
      "cocnbr                      3 non-null float64\n",
      "contractorcompanyname       31023 non-null object\n",
      "contractordba               2432 non-null object\n",
      "contractoraddress1          30762 non-null object\n",
      "contractoraddress2          17547 non-null object\n",
      "contractorcity              30770 non-null object\n",
      "contractorstate             30770 non-null object\n",
      "contractoremail             28933 non-null object\n",
      "contractorlicnum            30770 non-null float64\n",
      "contractorphone             30770 non-null float64\n",
      "contractorzip               30770 non-null object\n",
      "countylocation              31038 non-null object\n",
      "description                 31043 non-null object\n",
      "expirednewpermnum           0 non-null float64\n",
      "expiresdate                 5190 non-null object\n",
      "fee                         31044 non-null int64\n",
      "fiscalyear                  30942 non-null object\n",
      "govtownedprop               31044 non-null float64\n",
      "grouptenantname             5083 non-null object\n",
      "housingunitstotal           30695 non-null float64\n",
      "housingunitsexist           3804 non-null float64\n",
      "issueddate_mth              30851 non-null float64\n",
      "issueddate_yr               30851 non-null float64\n",
      "jurisdiction                31044 non-null object\n",
      "jurisdiction_atissue        0 non-null object\n",
      "jurisdiction_inout_ral      31044 non-null object\n",
      "landusedescription          31044 non-null object\n",
      "landusenewuse               31044 non-null float64\n",
      "latitude_perm               31039 non-null float64\n",
      "longitude_perm              31039 non-null float64\n",
      "mapsheet                    30178 non-null object\n",
      "numberstories               31044 non-null float64\n",
      "originaladdress1            31044 non-null object\n",
      "originaladdress2            676 non-null object\n",
      "originalcity                31044 non-null object\n",
      "originalstate               878 non-null object\n",
      "originalzip                 24820 non-null object\n",
      "parc_open_space_zone_fee    31044 non-null float64\n",
      "parcelownername             30912 non-null object\n",
      "parcelowneraddress1         27509 non-null object\n",
      "parcelowneraddress2         27802 non-null object\n",
      "perm_comments               27833 non-null object\n",
      "permittype                  31044 non-null object\n",
      "pin                         25191 non-null object\n",
      "projectname                 29261 non-null object\n",
      "proposeduse                 31044 non-null object\n",
      "publisher                   31044 non-null object\n",
      "recordupdatedate            31044 non-null object\n",
      "reviewercomments            1080 non-null object\n",
      "statelicnum                 30793 non-null object\n",
      "statuscurrent               31044 non-null object\n",
      "statuscurrentmapped         31044 non-null object\n",
      "streetnum                   31044 non-null object\n",
      "streetdirectionprefix       30506 non-null object\n",
      "streetname                  31044 non-null object\n",
      "streetdirectionsuffix       30516 non-null object\n",
      "streettype                  31043 non-null object\n",
      "totalsqft                   31044 non-null float64\n",
      "voiddate                    53 non-null object\n",
      "workclassmapped             31044 non-null object\n",
      "GlobalID                    31044 non-null object\n",
      "CreationDate                31044 non-null object\n",
      "Creator                     31044 non-null object\n",
      "EditDate                    31044 non-null object\n",
      "Editor                      31044 non-null object\n",
      "const_type                  31044 non-null object\n",
      "occupancyclass              31044 non-null object\n",
      "dtypes: float64(21), int64(3), object(63)\n",
      "memory usage: 20.8+ MB\n"
     ]
    }
   ],
   "source": [
    "lm_data.info()"
   ]
  },
  {
   "cell_type": "code",
   "execution_count": 103,
   "metadata": {},
   "outputs": [],
   "source": [
    "lm_model=lm_data[['issueddate_yr','estprojectcost']]"
   ]
  },
  {
   "cell_type": "code",
   "execution_count": 105,
   "metadata": {},
   "outputs": [],
   "source": [
    "lm_model_set=lm_model.dropna()"
   ]
  },
  {
   "cell_type": "code",
   "execution_count": 106,
   "metadata": {},
   "outputs": [
    {
     "name": "stdout",
     "output_type": "stream",
     "text": [
      "<class 'pandas.core.frame.DataFrame'>\n",
      "Int64Index: 30851 entries, 1 to 141952\n",
      "Data columns (total 2 columns):\n",
      "issueddate_yr     30851 non-null float64\n",
      "estprojectcost    30851 non-null float64\n",
      "dtypes: float64(2)\n",
      "memory usage: 723.1 KB\n"
     ]
    }
   ],
   "source": [
    "lm_model_set.info()"
   ]
  },
  {
   "cell_type": "code",
   "execution_count": 107,
   "metadata": {
    "scrolled": true
   },
   "outputs": [
    {
     "name": "stdout",
     "output_type": "stream",
     "text": [
      "<class 'pandas.core.frame.DataFrame'>\n",
      "Int64Index: 31044 entries, 1 to 141952\n",
      "Data columns (total 2 columns):\n",
      "issueddate_yr     30851 non-null float64\n",
      "estprojectcost    31044 non-null float64\n",
      "dtypes: float64(2)\n",
      "memory usage: 727.6 KB\n"
     ]
    }
   ],
   "source": [
    "lm_model.info()"
   ]
  },
  {
   "cell_type": "markdown",
   "metadata": {},
   "source": [
    "# Implement handling for missing values and explain your reasoning"
   ]
  },
  {
   "cell_type": "markdown",
   "metadata": {},
   "source": [
    "#### Here we can observe our lm_model after removing NA value have obervations of 30851 while with NA has around 31044 meaning count of NaN values is neglibly small compared to total observations hence negelected NaN values proceeded fro further analyis with lm_model"
   ]
  },
  {
   "cell_type": "code",
   "execution_count": 110,
   "metadata": {},
   "outputs": [
    {
     "name": "stdout",
     "output_type": "stream",
     "text": [
      "estprojectcost    1\n",
      "dtype: int64\n"
     ]
    }
   ],
   "source": [
    "print((lm_model_set[['estprojectcost']] == 0).sum())"
   ]
  },
  {
   "cell_type": "markdown",
   "metadata": {},
   "source": [
    "#### After data cleaning here we can observe our model set has only one ZERO value in estprojectcost"
   ]
  },
  {
   "cell_type": "code",
   "execution_count": 175,
   "metadata": {},
   "outputs": [],
   "source": [
    "abc=lm_model_set[lm_model_set<lm_model_set.quantile(.75)]"
   ]
  },
  {
   "cell_type": "code",
   "execution_count": 114,
   "metadata": {},
   "outputs": [
    {
     "data": {
      "text/plain": [
       "<seaborn.axisgrid.PairGrid at 0x130b5820518>"
      ]
     },
     "execution_count": 114,
     "metadata": {},
     "output_type": "execute_result"
    },
    {
     "data": {
      "image/png": "[encoded data removed]",
      "text/plain": [
       "<Figure size 360x360 with 6 Axes>"
      ]
     },
     "metadata": {
      "needs_background": "light"
     },
     "output_type": "display_data"
    }
   ],
   "source": [
    "sns.pairplot(lm_model_set)"
   ]
  },
  {
   "cell_type": "code",
   "execution_count": 115,
   "metadata": {},
   "outputs": [
    {
     "data": {
      "text/plain": [
       "<seaborn.axisgrid.FacetGrid at 0x130b6e1c6a0>"
      ]
     },
     "execution_count": 115,
     "metadata": {},
     "output_type": "execute_result"
    },
    {
     "data": {
      "image/png": "[encoded data removed]",
      "text/plain": [
       "<Figure size 360x360 with 1 Axes>"
      ]
     },
     "metadata": {
      "needs_background": "light"
     },
     "output_type": "display_data"
    }
   ],
   "source": [
    "sns.lmplot(x='issueddate_yr',y='estprojectcost',data=lm_model_set)"
   ]
  },
  {
   "cell_type": "code",
   "execution_count": 317,
   "metadata": {},
   "outputs": [],
   "source": [
    "y=lm_model_set['estprojectcost']\n",
    "\n",
    "X=lm_model_set['issueddate_yr']\n",
    "\n",
    "y=y.values.reshape(-1,1)\n",
    "\n",
    "\n",
    "X=X.values.reshape(-1,1)\n",
    "\n",
    "from sklearn.model_selection import train_test_split\n",
    "\n",
    "X_train, X_test, y_train, y_test = train_test_split(X, y, test_size=0.25, random_state=42)  --splitting data into train,test\n",
    "\n",
    "from sklearn.linear_model import LinearRegression\n",
    "\n",
    "lm=LinearRegression()"
   ]
  },
  {
   "cell_type": "code",
   "execution_count": 327,
   "metadata": {},
   "outputs": [
    {
     "data": {
      "text/plain": [
       "LinearRegression(copy_X=True, fit_intercept=True, n_jobs=None, normalize=False)"
      ]
     },
     "execution_count": 327,
     "metadata": {},
     "output_type": "execute_result"
    }
   ],
   "source": [
    "lm.fit(X_train,y_train)"
   ]
  },
  {
   "cell_type": "code",
   "execution_count": 336,
   "metadata": {},
   "outputs": [
    {
     "name": "stdout",
     "output_type": "stream",
     "text": [
      "Coefficients:  [[12480.50499572]]\n",
      "intercept:  [-24854068.84308377]\n"
     ]
    }
   ],
   "source": [
    "print('Coefficients: ', lm.coef_)\n",
    "print('intercept: ',lm.intercept_)"
   ]
  },
  {
   "cell_type": "markdown",
   "metadata": {},
   "source": [
    "#### This model has intercept of -24854068.84 and beta coeff of 12480 impiling raise in year by 1 inreases cost of arounf 12480 dollars"
   ]
  },
  {
   "cell_type": "code",
   "execution_count": 329,
   "metadata": {},
   "outputs": [],
   "source": [
    "predictions=lm.predict(X_test)"
   ]
  },
  {
   "cell_type": "code",
   "execution_count": 339,
   "metadata": {},
   "outputs": [
    {
     "data": {
      "image/png": "[encoded data removed]",
      "text/plain": [
       "<Figure size 432x288 with 1 Axes>"
      ]
     },
     "metadata": {
      "needs_background": "light"
     },
     "output_type": "display_data"
    },
    {
     "data": {
      "image/png": "[encoded data removed]",
      "text/plain": [
       "<Figure size 432x288 with 1 Axes>"
      ]
     },
     "metadata": {
      "needs_background": "light"
     },
     "output_type": "display_data"
    }
   ],
   "source": [
    "import numpy as np\n",
    "from matplotlib import pyplot as plt\n",
    "plt.scatter(X_test, y_test)\n",
    "plt.plot(X_test, predictions, color='red')\n",
    "\n",
    "\n",
    "plt.show()\n",
    "\n",
    "sns.distplot((y_test-predictions),bins=5);"
   ]
  },
  {
   "cell_type": "code",
   "execution_count": 330,
   "metadata": {},
   "outputs": [
    {
     "data": {
      "text/plain": [
       "Text(0, 0.5, 'Predicted Y')"
      ]
     },
     "execution_count": 330,
     "metadata": {},
     "output_type": "execute_result"
    },
    {
     "data": {
      "image/png": "[encoded data removed]",
      "text/plain": [
       "<Figure size 432x288 with 1 Axes>"
      ]
     },
     "metadata": {
      "needs_background": "light"
     },
     "output_type": "display_data"
    }
   ],
   "source": [
    "plt.scatter(y_test,predictions)\n",
    "plt.xlabel('Y Test')\n",
    "plt.ylabel('Predicted Y')"
   ]
  },
  {
   "cell_type": "markdown",
   "metadata": {},
   "source": [
    "#### Plots shows how distoretd the graph is and we can wee because of few points the hist plot is rigth skewed and from below we can see the errors. r2 score is just 9.8% showing poor analysis.\n",
    "\n",
    "#### In next analysis we have taken only points which are below  under 95 percentile for a better analysis."
   ]
  },
  {
   "cell_type": "code",
   "execution_count": 331,
   "metadata": {},
   "outputs": [
    {
     "name": "stdout",
     "output_type": "stream",
     "text": [
      "MAE: 98207.27558848773\n",
      "MSE: 28252051798.862984\n",
      "RMSE: 168083.46676238856\n"
     ]
    }
   ],
   "source": [
    "from sklearn.metrics import mean_squared_error, r2_score\n",
    "import numpy as np\n",
    "\n",
    "print('MAE:', metrics.mean_absolute_error(y_test, predictions))\n",
    "print('MSE:', metrics.mean_squared_error(y_test, predictions))\n",
    "print('RMSE:', np.sqrt(metrics.mean_squared_error(y_test, predictions)))"
   ]
  },
  {
   "cell_type": "code",
   "execution_count": 337,
   "metadata": {},
   "outputs": [
    {
     "data": {
      "text/plain": [
       "0.09807943706866606"
      ]
     },
     "execution_count": 337,
     "metadata": {},
     "output_type": "execute_result"
    }
   ],
   "source": [
    "r2_score(y_test,predictions)"
   ]
  },
  {
   "cell_type": "markdown",
   "metadata": {},
   "source": [
    "\n",
    "### Second Analysis with points under 95 percentile for better interpretation."
   ]
  },
  {
   "cell_type": "code",
   "execution_count": 343,
   "metadata": {},
   "outputs": [
    {
     "name": "stdout",
     "output_type": "stream",
     "text": [
      "<class 'pandas.core.frame.DataFrame'>\n",
      "Int64Index: 30851 entries, 1 to 141952\n",
      "Data columns (total 2 columns):\n",
      "issueddate_yr     30851 non-null float64\n",
      "estprojectcost    30851 non-null float64\n",
      "dtypes: float64(2)\n",
      "memory usage: 723.1 KB\n",
      "<class 'pandas.core.frame.DataFrame'>\n",
      "Int64Index: 31044 entries, 1 to 141952\n",
      "Data columns (total 2 columns):\n",
      "issueddate_yr     30851 non-null float64\n",
      "estprojectcost    31044 non-null float64\n",
      "dtypes: float64(2)\n",
      "memory usage: 727.6 KB\n",
      "estprojectcost    1\n",
      "dtype: int64\n",
      "Coefficients: \n",
      " [[9707.9463684]]\n"
     ]
    },
    {
     "data": {
      "text/plain": [
       "Text(0, 0.5, 'Predicted Y')"
      ]
     },
     "execution_count": 343,
     "metadata": {},
     "output_type": "execute_result"
    },
    {
     "data": {
      "image/png": "[encoded data removed]",
      "text/plain": [
       "<Figure size 432x288 with 1 Axes>"
      ]
     },
     "metadata": {
      "needs_background": "light"
     },
     "output_type": "display_data"
    }
   ],
   "source": [
    "lm_model=lm_data[['issueddate_yr','estprojectcost']]\n",
    "lm_model_set11=lm_model.dropna()\n",
    "lm_model_set11.info()\n",
    "lm_model.info()\n",
    "print((lm_model_set11[['estprojectcost']] == 0).sum())\n",
    "\n",
    "lm_model_set1a=lm_model_set11[lm_model_set11<lm_model_set11.quantile(.95)].dropna()\n",
    "lm_model_set1=lm_model_set1a\n",
    "y=lm_model_set1['estprojectcost']\n",
    "X=lm_model_set1['issueddate_yr']\n",
    "\n",
    "\n",
    "y=y.values.reshape(-1,1)\n",
    "X=X.values.reshape(-1,1)\n",
    "\n",
    "\n",
    "from sklearn.model_selection import train_test_split\n",
    "X_train, X_test, y_train, y_test = train_test_split(X, y, test_size=0.4, random_state=42)\n",
    "from sklearn.linear_model import LinearRegression\n",
    "lm=LinearRegression()\n",
    "\n",
    "lm.fit(X_train,y_train)\n",
    "print('Coefficients: \\n', lm.coef_)\n",
    "predictions=lm.predict(X_test)\n",
    "\n",
    "import matplotlib.pyplot as plt\n",
    "%matplotlib inline\n",
    "\n",
    "plt.scatter(y_test[:500],predictions[:500])\n",
    "plt.xlabel('Y Test')\n",
    "plt.ylabel('Predicted Y')\n",
    "\n"
   ]
  },
  {
   "cell_type": "code",
   "execution_count": 344,
   "metadata": {},
   "outputs": [
    {
     "data": {
      "image/png": "[encoded data removed]",
      "text/plain": [
       "<Figure size 432x288 with 1 Axes>"
      ]
     },
     "metadata": {
      "needs_background": "light"
     },
     "output_type": "display_data"
    }
   ],
   "source": [
    "sns.distplot((y_test-predictions),bins=5);\n"
   ]
  },
  {
   "cell_type": "code",
   "execution_count": 345,
   "metadata": {},
   "outputs": [
    {
     "data": {
      "image/png": "[encoded data removed]",
      "text/plain": [
       "<Figure size 432x288 with 1 Axes>"
      ]
     },
     "metadata": {
      "needs_background": "light"
     },
     "output_type": "display_data"
    },
    {
     "name": "stdout",
     "output_type": "stream",
     "text": [
      "MAE: 69544.86467579911\n",
      "MSE: 8358853371.394205\n",
      "RMSE: 91426.76507125364\n",
      "r_2 statistic: 0.15\n"
     ]
    },
    {
     "data": {
      "image/png": "[encoded data removed]",
      "text/plain": [
       "<Figure size 432x288 with 1 Axes>"
      ]
     },
     "metadata": {
      "needs_background": "light"
     },
     "output_type": "display_data"
    }
   ],
   "source": [
    "plt.scatter(X_test, y_test)\n",
    "plt.plot(X_test, predictions, color='red')\n",
    "plt.show()\n",
    "\n",
    "sns.residplot(y_test, predictions, color='red')\n",
    "\n",
    "\n",
    "print('MAE:', metrics.mean_absolute_error(y_test, predictions))\n",
    "print('MSE:', metrics.mean_squared_error(y_test, predictions))\n",
    "print('RMSE:', np.sqrt(metrics.mean_squared_error(y_test, predictions)))\n",
    "print('r_2 statistic: %.2f' % r2_score(y_test, predictions))"
   ]
  },
  {
   "cell_type": "markdown",
   "metadata": {},
   "source": [
    "#### here also we could see lot of distortion and r2 coeff of 15% better than previous model while still implying a poor model."
   ]
  },
  {
   "cell_type": "markdown",
   "metadata": {},
   "source": [
    "---"
   ]
  },
  {
   "cell_type": "markdown",
   "metadata": {},
   "source": [
    "# What additional techniques or methodologies could be used to improve the results from the previous step?"
   ]
  },
  {
   "attachments": {},
   "cell_type": "markdown",
   "metadata": {},
   "source": [
    "### in our second analysis we have neglected points whch ae reuting in poor analysis but we the then analysis also implied the same stating us model needs to be recosnidered. I think barely taking a single dependency has lead to poor model while I think to take more dependent model(multiple regreesion) and also consider cases for binary in columns like 'const_type' ,'occupancyclass etc.'"
   ]
  }
 ],
 "metadata": {
  "kernelspec": {
   "display_name": "Python 3",
   "language": "python",
   "name": "python3"
  },
  "language_info": {
   "codemirror_mode": {
    "name": "ipython",
    "version": 3
   },
   "file_extension": ".py",
   "mimetype": "text/x-python",
   "name": "python",
   "nbconvert_exporter": "python",
   "pygments_lexer": "ipython3",
   "version": "3.7.3"
  }
 },
 "nbformat": 4,
 "nbformat_minor": 2
}
